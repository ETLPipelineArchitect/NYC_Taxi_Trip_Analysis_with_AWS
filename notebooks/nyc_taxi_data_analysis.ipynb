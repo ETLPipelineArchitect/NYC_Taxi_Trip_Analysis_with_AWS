{
    "cells": [
        {
            "cell_type": "markdown",
            "metadata": {},
            "source": [
                "# Analyzing NYC Taxi Trip Data\n",
                "This notebook presents the analysis of the NYC Taxi Trip data."
            ]
        },
        {
            "cell_type": "code",
            "execution_count": 1,
            "metadata": {},
            "outputs": [],
            "source": [
                "from pyspark.sql import SparkSession\n",
                "# Initialize Spark Session\n",
                "spark = SparkSession.builder.appName(\"NYCTaxiDataAnalysis\").getOrCreate()\n",
                "\n",
                "# Load Processed Data\n",
                "processed_data_path = \"s3://your-bucket/nyc_taxi_data/processed/\"\n",
                "taxi_df = spark.read.parquet(processed_data_path)\n",
                "\n",
                "taxi_df.createOrReplaceTempView(\"taxi_data\")\n",
                "\n",
                "# Perform Queries\n",
                "busiest_pickups = spark.sql(\"\"\"\n",
                "  SELECT PULocationID, COUNT(*) as trip_count\n",
                "  FROM taxi_data\n",
                "  GROUP BY PULocationID\n",
                "  ORDER BY trip_count DESC\n",
                "  LIMIT 10\n",
                "\"\"\")\n",
                "busiest_pickups.show()"
            ]
        }
    ],
    "metadata": {
        "kernelspec": {
            "display_name": "Python 3",
            "language": "python",
            "name": "python3"
        },
        "language_info": {
            "name": "python",
            "version": "3.8.5",
            "mimetype": "text/x-python",
            "codemirror_mode": {
                "name": "ipython",
                "version": 3
            },
            "pygments_lexer": "ipython3"
        }
    },
    "nbformat": 4,
    "nbformat_minor": 5
}